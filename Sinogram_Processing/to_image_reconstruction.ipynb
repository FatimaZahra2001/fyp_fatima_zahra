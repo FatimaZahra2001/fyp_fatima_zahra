{
 "cells": [
  {
   "cell_type": "markdown",
   "metadata": {},
   "source": [
    "Generate image reconstruction from sinogram after UNet prediction."
   ]
  },
  {
   "cell_type": "code",
   "execution_count": 4,
   "metadata": {},
   "outputs": [
    {
     "name": "stdout",
     "output_type": "stream",
     "text": [
      "Image reconstructions generated and saved.\n"
     ]
    }
   ],
   "source": [
    "import os\n",
    "import numpy as np\n",
    "from skimage.transform import iradon\n",
    "from skimage.io import imread, imsave\n",
    "from skimage import exposure\n",
    "\n",
    "def read_sinogram(file_path):\n",
    "    sinogram = imread(file_path, as_gray=True)\n",
    "    return sinogram\n",
    "\n",
    "def generate_image(sinogram):\n",
    "    # use the inverse Radon transform from skimage\n",
    "    image = iradon(sinogram, circle=True)\n",
    "\n",
    "    # normalise the image to range [0, 1]\n",
    "    image_normalized = exposure.rescale_intensity(image, out_range=(0, 1))\n",
    "\n",
    "    return image_normalized\n",
    "\n",
    "def enhance_image(image):\n",
    "    # apply adaptive histogram equalization for subtle contrast enhancement\n",
    "    enhanced_image = exposure.equalize_adapthist(image, clip_limit=0.03)\n",
    "\n",
    "    return enhanced_image\n",
    "\n",
    "def save_image(image_normalized, save_path):\n",
    "    # convert image to uint8 before saving\n",
    "    image_uint8 = (image_normalized * 255).astype(np.uint8)\n",
    "\n",
    "    imsave(save_path, image_uint8)\n",
    "\n",
    "def main():\n",
    "    input_folder = '/home/hinata/code/fyp/images/ml_images/sinogram_images/output/2/sinograms'\n",
    "    output_folder = '/home/hinata/code/fyp/images/ml_images/sinogram_images/output/2/image_reconstructions'\n",
    "\n",
    "    os.makedirs(output_folder, exist_ok=True)\n",
    "\n",
    "    for filename in os.listdir(input_folder):\n",
    "        if filename.endswith(('.png', '.jpg', '.jpeg')):\n",
    "            sinogram_path = os.path.join(input_folder, filename)\n",
    "            reconstruction_save_path = os.path.join(output_folder, f\"{os.path.splitext(filename)[0]}_reconstructed.png\")\n",
    "\n",
    "            sinogram = read_sinogram(sinogram_path)\n",
    "\n",
    "            # generate the image reconstruction\n",
    "            image_normalized = generate_image(sinogram)\n",
    "\n",
    "            # enhance the reconstructed image\n",
    "            enhanced_image = enhance_image(image_normalized)\n",
    "\n",
    "            save_image(enhanced_image, reconstruction_save_path)\n",
    "\n",
    "    print(\"Image reconstructions generated and saved.\")\n",
    "\n",
    "if __name__ == \"__main__\":\n",
    "    main()\n"
   ]
  }
 ],
 "metadata": {
  "kernelspec": {
   "display_name": "Python 3.11.5 ('base')",
   "language": "python",
   "name": "python3"
  },
  "language_info": {
   "codemirror_mode": {
    "name": "ipython",
    "version": 3
   },
   "file_extension": ".py",
   "mimetype": "text/x-python",
   "name": "python",
   "nbconvert_exporter": "python",
   "pygments_lexer": "ipython3",
   "version": "3.11.5"
  },
  "orig_nbformat": 4,
  "vscode": {
   "interpreter": {
    "hash": "1fca940adc269168a55911fdebe6894ac8d32cb830abd7a077a9d21765baec54"
   }
  }
 },
 "nbformat": 4,
 "nbformat_minor": 2
}
