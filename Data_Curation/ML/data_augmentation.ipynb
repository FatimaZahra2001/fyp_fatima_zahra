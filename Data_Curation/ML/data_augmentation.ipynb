{
 "cells": [
  {
   "cell_type": "markdown",
   "metadata": {},
   "source": [
    "take in NIRFAST results and augment them to be ready for sinogram genetation."
   ]
  },
  {
   "cell_type": "code",
   "execution_count": 10,
   "metadata": {},
   "outputs": [
    {
     "name": "stdout",
     "output_type": "stream",
     "text": [
      "Image splitting and cropping complete.\n"
     ]
    }
   ],
   "source": [
    "import cv2\n",
    "import os\n",
    "\n",
    "# define cropping parameters for the left images (mua folder)\n",
    "left_crop_top = 160\n",
    "left_crop_bottom = 275\n",
    "left_crop_left = 150\n",
    "left_crop_right = 70\n",
    "\n",
    "# define cropping parameters for the right images (mus folder)\n",
    "right_crop_top = 160\n",
    "right_crop_bottom = 275\n",
    "right_crop_left = 100\n",
    "right_crop_right = 120\n",
    "\n",
    "input_dir = \"/home/hinata/MATLAB/R2023b/NIRFAST-master/fatima-zahra/images/img/reconstruction/16h_noise\"\n",
    "output_dir_mua = \"/home/hinata/code/fyp/images/ml_images/rec/16h_noise/mu_a_16_n\"\n",
    "output_dir_mus = \"/home/hinata/code/fyp/images/ml_images/rec/16h_noise/mu_s_16_n\"\n",
    "\n",
    "# create output directories if they don't exist\n",
    "os.makedirs(output_dir_mua, exist_ok=True)\n",
    "os.makedirs(output_dir_mus, exist_ok=True)\n",
    "\n",
    "# loop through each image in the input directory\n",
    "for filename in os.listdir(input_dir):\n",
    "    if filename.endswith(\".jpg\") or filename.endswith(\".png\"):\n",
    "        img = cv2.imread(os.path.join(input_dir, filename))\n",
    "\n",
    "        # split the image in half along the center vertically\n",
    "        width_half = img.shape[1] // 2\n",
    "        img1 = img[:, :width_half]\n",
    "        img2 = img[:, width_half:]\n",
    "\n",
    "        # save the left and right images into separate folders\n",
    "        cv2.imwrite(os.path.join(output_dir_mua, filename), img1)\n",
    "        cv2.imwrite(os.path.join(output_dir_mus, filename), img2)\n",
    "\n",
    "        # crop the left images (mua folder)\n",
    "        img1_cropped = img1[left_crop_top:-left_crop_bottom, left_crop_left:-left_crop_right]\n",
    "        cv2.imwrite(os.path.join(output_dir_mua, filename), img1_cropped)\n",
    "\n",
    "        # crop the right images (mus folder)\n",
    "        img2_cropped = img2[right_crop_top:-right_crop_bottom, right_crop_left:-right_crop_right]\n",
    "        cv2.imwrite(os.path.join(output_dir_mus, filename), img2_cropped)\n",
    "\n",
    "print(\"Image splitting and cropping complete.\")\n"
   ]
  }
 ],
 "metadata": {
  "kernelspec": {
   "display_name": "Python 3.10.12 64-bit",
   "language": "python",
   "name": "python3"
  },
  "language_info": {
   "codemirror_mode": {
    "name": "ipython",
    "version": 3
   },
   "file_extension": ".py",
   "mimetype": "text/x-python",
   "name": "python",
   "nbconvert_exporter": "python",
   "pygments_lexer": "ipython3",
   "version": "3.10.12"
  },
  "orig_nbformat": 4,
  "vscode": {
   "interpreter": {
    "hash": "a30072751ebdd9e38b3a3723274826dbc6c580cc83e8305b93d67478e6165946"
   }
  }
 },
 "nbformat": 4,
 "nbformat_minor": 2
}
